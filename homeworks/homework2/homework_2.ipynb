{
 "cells": [
  {
   "cell_type": "markdown",
   "id": "c40e303c-9b86-4d86-87de-647787fcb286",
   "metadata": {},
   "source": [
    "# Домашнее задание №2\n",
    "\n",
    "| Дисциплина | Программирование на Python |\n",
    "|------------|-----------------------------|\n",
    "| Преподаватель | Филипп Воронов |\n",
    "| Студент | Фролов Богдан Владимирович |\n",
    "| Группа | ПСАПР-25-2 |\n",
    "| Форма сдачи | Jupyter Notebook + GitHub |"
   ]
  },
  {
   "cell_type": "markdown",
   "id": "c1366e7d",
   "metadata": {},
   "source": [
    "## Задание 1\n",
    "Напишите код на Python в среде Jupyter Notebook или PyCharm для решения\n",
    "следующей задачи.\n",
    "Дана переменная, в которой хранится слово из латинских букв. Напишите код, который\n",
    "выводит на экран:\n",
    "* среднюю букву, если число букв в слове нечётное;\n",
    "* две средних буквы, если число букв чётное"
   ]
  },
  {
   "cell_type": "code",
   "execution_count": 9,
   "id": "ad8605b1",
   "metadata": {},
   "outputs": [
    {
     "name": "stdin",
     "output_type": "stream",
     "text": [
      " word\n"
     ]
    },
    {
     "name": "stdout",
     "output_type": "stream",
     "text": [
      "or\n"
     ]
    }
   ],
   "source": [
    "word = input()\n",
    "\n",
    "n = len(word)\n",
    "\n",
    "if n % 2 == 0:\n",
    "    middle = word[n//2 - 1 : n//2 + 1]\n",
    "else:\n",
    "    middle = word[n//2]\n",
    "\n",
    "print(middle)\n"
   ]
  }
 ],
 "metadata": {
  "kernelspec": {
   "display_name": "Python 3 (ipykernel)",
   "language": "python",
   "name": "python3"
  },
  "language_info": {
   "codemirror_mode": {
    "name": "ipython",
    "version": 3
   },
   "file_extension": ".py",
   "mimetype": "text/x-python",
   "name": "python",
   "nbconvert_exporter": "python",
   "pygments_lexer": "ipython3",
   "version": "3.9.6"
  }
 },
 "nbformat": 4,
 "nbformat_minor": 5
}
