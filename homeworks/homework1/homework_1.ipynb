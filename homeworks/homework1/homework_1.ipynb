{
 "cells": [
  {
   "cell_type": "markdown",
   "id": "c40e303c-9b86-4d86-87de-647787fcb286",
   "metadata": {},
   "source": [
    "# Домашнее задание №1\n",
    "\n",
    "| Дисциплина | Программирование на Python |\n",
    "|------------|-----------------------------|\n",
    "| Преподаватель | Филипп Воронов |\n",
    "| Студент | Фролов Богдан Владимирович |\n",
    "| Группа | ПСАПР-25-2 |\n",
    "| Форма сдачи | Jupyter Notebook + GitHub |"
   ]
  },
  {
   "cell_type": "markdown",
   "id": "c1366e7d",
   "metadata": {},
   "source": [
    "## Задание 1: Високосный год\n",
    "Программа определяет является ли год високосным"
   ]
  },
  {
   "cell_type": "code",
   "execution_count": 3,
   "id": "ad8605b1",
   "metadata": {},
   "outputs": [
    {
     "name": "stdin",
     "output_type": "stream",
     "text": [
      " 2016\n"
     ]
    },
    {
     "name": "stdout",
     "output_type": "stream",
     "text": [
      "Високосный год\n"
     ]
    }
   ],
   "source": [
    "year = int(input())\n",
    "\n",
    "if (year % 400 == 0) or (year % 4 == 0 and year % 100 != 0):\n",
    "    print(\"Високосный год\")\n",
    "else:\n",
    "    print(\"Обычный год\")"
   ]
  },
  {
   "cell_type": "markdown",
   "id": "d2b53ae7",
   "metadata": {},
   "source": [
    "## Задание 2: «Счастливый билет»\n",
    "Программа определяет является ли билет счастливым, сравнивая суммы первых трех и последних трех цифр 6-ти значного числа. Если они равны, то билет счастливый, иначе обратное."
   ]
  },
  {
   "cell_type": "code",
   "execution_count": 6,
   "id": "1b21b56c",
   "metadata": {},
   "outputs": [
    {
     "name": "stdin",
     "output_type": "stream",
     "text": [
      " 345678\n"
     ]
    },
    {
     "name": "stdout",
     "output_type": "stream",
     "text": [
      "Несчастливый билет\n"
     ]
    }
   ],
   "source": [
    "number = int(input())\n",
    "\n",
    "if 100000 <= number <= 999999:\n",
    "    d1 = number // 100000\n",
    "    d2 = number // 10000 % 10\n",
    "    d3 = number // 1000 % 10\n",
    "    d4 = number // 100 % 10\n",
    "    d5 = number // 10 % 10\n",
    "    d6 = number % 10\n",
    "\n",
    "    first_half = d1 + d2 + d3\n",
    "    second_half = d4 + d5 + d6\n",
    "\n",
    "    if first_half == second_half:\n",
    "        print(\"Счастливый билет\")\n",
    "    else:\n",
    "        print(\"Несчастливый билет\")\n",
    "else:\n",
    "    print(\"Нужно ввести ровно 6 цифр\")"
   ]
  }
 ],
 "metadata": {
  "kernelspec": {
   "display_name": "Python 3 (ipykernel)",
   "language": "python",
   "name": "python3"
  },
  "language_info": {
   "codemirror_mode": {
    "name": "ipython",
    "version": 3
   },
   "file_extension": ".py",
   "mimetype": "text/x-python",
   "name": "python",
   "nbconvert_exporter": "python",
   "pygments_lexer": "ipython3",
   "version": "3.9.6"
  }
 },
 "nbformat": 4,
 "nbformat_minor": 5
}
