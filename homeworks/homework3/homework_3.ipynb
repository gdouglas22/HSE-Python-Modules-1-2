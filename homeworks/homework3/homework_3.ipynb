{
 "cells": [
  {
   "cell_type": "markdown",
   "id": "c40e303c-9b86-4d86-87de-647787fcb286",
   "metadata": {},
   "source": [
    "# Домашнее задание №3\n",
    "\n",
    "| Дисциплина | Программирование на Python |\n",
    "|------------|-----------------------------|\n",
    "| Преподаватель | Филипп Воронов |\n",
    "| Студент | Фролов Богдан Владимирович |\n",
    "| Группа | ПСАПР-25-2 |\n",
    "| Форма сдачи | Jupyter Notebook + GitHub |"
   ]
  },
  {
   "cell_type": "markdown",
   "id": "c1366e7d",
   "metadata": {},
   "source": [
    "## Задание 1\n",
    "Напишите код на Python в среде Jupyter Notebook или PyCharm для решения задачи.\n",
    "Необходимо написать программу, которая сформирует словарь данных на основании\n",
    "заданных критериев (ключ = ключ в исходной структуре, значение = True — если\n",
    "количество ниже 20 , False — остальные случаи). При разработке использовать\n",
    "dict comprehension.\n",
    "Исходные данные имеют следующую структуру:\n",
    "items = {\n",
    "'milk15':{'name': 'молоко 1.5%', 'count': 34', 'price': 89.9},\n",
    "'cheese':{'name': сыр молочный 1 кг.', 'count': 12', 'price': 990.9},\n",
    "'sausage':{'name': колбаса 1 кг.', 'count': 122', 'price': 1990.9}\n",
    "}\n",
    "Результат:\n",
    "price_less_20 = {\n",
    "'milk15': False,\n",
    "'cheese': True,\n",
    "'sausage': False\n",
    "}"
   ]
  },
  {
   "cell_type": "code",
   "execution_count": 15,
   "id": "ad8605b1",
   "metadata": {},
   "outputs": [
    {
     "name": "stdout",
     "output_type": "stream",
     "text": [
      "{'milk15': False, 'cheese': True, 'sausage': False}\n"
     ]
    }
   ],
   "source": [
    "items = {\n",
    "    'milk15': {'name': 'молоко 1.5%', 'count': 34, 'price': 89.9},\n",
    "    'cheese': {'name': 'сыр молочный 1 кг.', 'count': 12, 'price': 990.9},\n",
    "    'sausage': {'name': 'колбаса 1 кг.', 'count': 122, 'price': 1990.9}\n",
    "}\n",
    "\n",
    "price_less_20 = {key: value['count'] < 20 for key, value in items.items()}\n",
    "\n",
    "print(price_less_20)"
   ]
  },
  {
   "cell_type": "code",
   "execution_count": null,
   "id": "9c5cbd96-9263-40c9-93ad-c80f6b6897e3",
   "metadata": {},
   "outputs": [],
   "source": []
  }
 ],
 "metadata": {
  "kernelspec": {
   "display_name": "Python 3 (ipykernel)",
   "language": "python",
   "name": "python3"
  },
  "language_info": {
   "codemirror_mode": {
    "name": "ipython",
    "version": 3
   },
   "file_extension": ".py",
   "mimetype": "text/x-python",
   "name": "python",
   "nbconvert_exporter": "python",
   "pygments_lexer": "ipython3",
   "version": "3.9.6"
  }
 },
 "nbformat": 4,
 "nbformat_minor": 5
}
